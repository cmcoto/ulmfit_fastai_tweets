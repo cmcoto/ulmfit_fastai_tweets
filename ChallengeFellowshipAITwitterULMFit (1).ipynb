{
  "nbformat": 4,
  "nbformat_minor": 0,
  "metadata": {
    "colab": {
      "name": "ChallengeFellowshipAITwitterULMFit.ipynb",
      "version": "0.3.2",
      "provenance": [],
      "collapsed_sections": []
    },
    "kernelspec": {
      "name": "python3",
      "display_name": "Python 3"
    },
    "accelerator": "GPU"
  },
  "cells": [
    {
      "cell_type": "markdown",
      "metadata": {
        "id": "clDIOmE-Iybb",
        "colab_type": "text"
      },
      "source": [
        "**First Get Latest version of  FAST.AI \n"
      ]
    },
    {
      "cell_type": "code",
      "metadata": {
        "id": "c_9g3FCVJAsF",
        "colab_type": "code",
        "outputId": "77f7c622-6712-4495-df01-caca4e9e2ae4",
        "colab": {
          "base_uri": "https://localhost:8080/",
          "height": 51
        }
      },
      "source": [
        "!curl -s https://course.fast.ai/setup/colab | bash"
      ],
      "execution_count": 3,
      "outputs": [
        {
          "output_type": "stream",
          "text": [
            "Updating fastai...\n",
            "Done.\n"
          ],
          "name": "stdout"
        }
      ]
    },
    {
      "cell_type": "markdown",
      "metadata": {
        "id": "hSx7uLQUJxbA",
        "colab_type": "text"
      },
      "source": [
        "**Connect Google Drive!**"
      ]
    },
    {
      "cell_type": "code",
      "metadata": {
        "id": "wbQ-2HmfJ2wF",
        "colab_type": "code",
        "outputId": "7383a500-93e7-4f78-8d5c-17afa5a206a6",
        "colab": {
          "base_uri": "https://localhost:8080/",
          "height": 122
        }
      },
      "source": [
        "from google.colab import *\n",
        "drive.mount('/content/gdrive', force_remount=True)"
      ],
      "execution_count": 4,
      "outputs": [
        {
          "output_type": "stream",
          "text": [
            "Go to this URL in a browser: https://accounts.google.com/o/oauth2/auth?client_id=947318989803-6bn6qk8qdgf4n4g3pfee6491hc0brc4i.apps.googleusercontent.com&redirect_uri=urn%3Aietf%3Awg%3Aoauth%3A2.0%3Aoob&scope=email%20https%3A%2F%2Fwww.googleapis.com%2Fauth%2Fdocs.test%20https%3A%2F%2Fwww.googleapis.com%2Fauth%2Fdrive%20https%3A%2F%2Fwww.googleapis.com%2Fauth%2Fdrive.photos.readonly%20https%3A%2F%2Fwww.googleapis.com%2Fauth%2Fpeopleapi.readonly&response_type=code\n",
            "\n",
            "Enter your authorization code:\n",
            "··········\n",
            "Mounted at /content/gdrive\n"
          ],
          "name": "stdout"
        }
      ]
    },
    {
      "cell_type": "markdown",
      "metadata": {
        "id": "0-cWM6nsKKFd",
        "colab_type": "text"
      },
      "source": [
        "Check that it mounted Correctly!"
      ]
    },
    {
      "cell_type": "code",
      "metadata": {
        "id": "5ic3WBM-KNm8",
        "colab_type": "code",
        "outputId": "044b45dc-83b0-4cc3-83b0-d68b3876cc43",
        "colab": {
          "base_uri": "https://localhost:8080/",
          "height": 34
        }
      },
      "source": [
        "with open('/content/gdrive/My Drive/data/foo.txt', 'w') as f:\n",
        "  f.write('Hello Google Drive!')\n",
        "!cat /content/gdrive/My\\ Drive/foo.txt"
      ],
      "execution_count": 5,
      "outputs": [
        {
          "output_type": "stream",
          "text": [
            "Hello Google Drive!"
          ],
          "name": "stdout"
        }
      ]
    },
    {
      "cell_type": "markdown",
      "metadata": {
        "id": "_jiFtBCdN2P_",
        "colab_type": "text"
      },
      "source": [
        "Get Path! To read csv file"
      ]
    },
    {
      "cell_type": "code",
      "metadata": {
        "id": "aSvtMbC8OhRk",
        "colab_type": "code",
        "outputId": "a11b4536-15d2-4e60-88f3-58956d484c9b",
        "colab": {
          "base_uri": "https://localhost:8080/",
          "height": 34
        }
      },
      "source": [
        "!ls \"/content/gdrive/My Drive/data/twitter\""
      ],
      "execution_count": 6,
      "outputs": [
        {
          "output_type": "stream",
          "text": [
            "Tweets.csv\n"
          ],
          "name": "stdout"
        }
      ]
    },
    {
      "cell_type": "markdown",
      "metadata": {
        "id": "ZGu749rEQjKF",
        "colab_type": "text"
      },
      "source": [
        "GET THE **DATA**"
      ]
    },
    {
      "cell_type": "code",
      "metadata": {
        "id": "P89E-EmORIPa",
        "colab_type": "code",
        "colab": {}
      },
      "source": [
        "import pandas as pd\n",
        "import numpy as np\n"
      ],
      "execution_count": 0,
      "outputs": []
    },
    {
      "cell_type": "code",
      "metadata": {
        "id": "KFJzWXTKQnBU",
        "colab_type": "code",
        "colab": {}
      },
      "source": [
        "tweets = pd.read_csv('/content/gdrive/My Drive/data/twitter/Tweets.csv')\n"
      ],
      "execution_count": 0,
      "outputs": []
    },
    {
      "cell_type": "code",
      "metadata": {
        "id": "1p7If1U9Sg5p",
        "colab_type": "code",
        "outputId": "61d6fa50-598d-4d3d-df8d-959ff2581998",
        "colab": {
          "base_uri": "https://localhost:8080/",
          "height": 462
        }
      },
      "source": [
        "tweets.head(5)"
      ],
      "execution_count": 13,
      "outputs": [
        {
          "output_type": "execute_result",
          "data": {
            "text/html": [
              "<div>\n",
              "<style scoped>\n",
              "    .dataframe tbody tr th:only-of-type {\n",
              "        vertical-align: middle;\n",
              "    }\n",
              "\n",
              "    .dataframe tbody tr th {\n",
              "        vertical-align: top;\n",
              "    }\n",
              "\n",
              "    .dataframe thead th {\n",
              "        text-align: right;\n",
              "    }\n",
              "</style>\n",
              "<table border=\"1\" class=\"dataframe\">\n",
              "  <thead>\n",
              "    <tr style=\"text-align: right;\">\n",
              "      <th></th>\n",
              "      <th>tweet_id</th>\n",
              "      <th>airline_sentiment</th>\n",
              "      <th>airline_sentiment_confidence</th>\n",
              "      <th>negativereason</th>\n",
              "      <th>negativereason_confidence</th>\n",
              "      <th>airline</th>\n",
              "      <th>airline_sentiment_gold</th>\n",
              "      <th>name</th>\n",
              "      <th>negativereason_gold</th>\n",
              "      <th>retweet_count</th>\n",
              "      <th>text</th>\n",
              "      <th>tweet_coord</th>\n",
              "      <th>tweet_created</th>\n",
              "      <th>tweet_location</th>\n",
              "      <th>user_timezone</th>\n",
              "      <th>Unnamed: 15</th>\n",
              "      <th>Unnamed: 16</th>\n",
              "      <th>Unnamed: 17</th>\n",
              "      <th>Unnamed: 18</th>\n",
              "      <th>Unnamed: 19</th>\n",
              "      <th>Unnamed: 20</th>\n",
              "    </tr>\n",
              "  </thead>\n",
              "  <tbody>\n",
              "    <tr>\n",
              "      <th>0</th>\n",
              "      <td>5.703061e+17</td>\n",
              "      <td>neutral</td>\n",
              "      <td>1.0000</td>\n",
              "      <td>NaN</td>\n",
              "      <td>NaN</td>\n",
              "      <td>Virgin America</td>\n",
              "      <td>NaN</td>\n",
              "      <td>cairdin</td>\n",
              "      <td>NaN</td>\n",
              "      <td>0</td>\n",
              "      <td>@VirginAmerica What @dhepburn said.</td>\n",
              "      <td>NaN</td>\n",
              "      <td>2015-02-24 11:35:52 -0800</td>\n",
              "      <td>NaN</td>\n",
              "      <td>Eastern Time (US &amp; Canada)</td>\n",
              "      <td>NaN</td>\n",
              "      <td>NaN</td>\n",
              "      <td>NaN</td>\n",
              "      <td>NaN</td>\n",
              "      <td>NaN</td>\n",
              "      <td>NaN</td>\n",
              "    </tr>\n",
              "    <tr>\n",
              "      <th>1</th>\n",
              "      <td>5.703011e+17</td>\n",
              "      <td>positive</td>\n",
              "      <td>0.3486</td>\n",
              "      <td>NaN</td>\n",
              "      <td>0.0000</td>\n",
              "      <td>Virgin America</td>\n",
              "      <td>NaN</td>\n",
              "      <td>jnardino</td>\n",
              "      <td>NaN</td>\n",
              "      <td>0</td>\n",
              "      <td>@VirginAmerica plus you've added commercials t...</td>\n",
              "      <td>NaN</td>\n",
              "      <td>2015-02-24 11:15:59 -0800</td>\n",
              "      <td>NaN</td>\n",
              "      <td>Pacific Time (US &amp; Canada)</td>\n",
              "      <td>NaN</td>\n",
              "      <td>NaN</td>\n",
              "      <td>NaN</td>\n",
              "      <td>NaN</td>\n",
              "      <td>NaN</td>\n",
              "      <td>NaN</td>\n",
              "    </tr>\n",
              "    <tr>\n",
              "      <th>2</th>\n",
              "      <td>5.703011e+17</td>\n",
              "      <td>neutral</td>\n",
              "      <td>0.6837</td>\n",
              "      <td>NaN</td>\n",
              "      <td>NaN</td>\n",
              "      <td>Virgin America</td>\n",
              "      <td>NaN</td>\n",
              "      <td>yvonnalynn</td>\n",
              "      <td>NaN</td>\n",
              "      <td>0</td>\n",
              "      <td>@VirginAmerica I didn't today... Must mean I n...</td>\n",
              "      <td>NaN</td>\n",
              "      <td>2015-02-24 11:15:48 -0800</td>\n",
              "      <td>Lets Play</td>\n",
              "      <td>Central Time (US &amp; Canada)</td>\n",
              "      <td>NaN</td>\n",
              "      <td>NaN</td>\n",
              "      <td>NaN</td>\n",
              "      <td>NaN</td>\n",
              "      <td>NaN</td>\n",
              "      <td>NaN</td>\n",
              "    </tr>\n",
              "    <tr>\n",
              "      <th>3</th>\n",
              "      <td>5.703010e+17</td>\n",
              "      <td>negative</td>\n",
              "      <td>1.0000</td>\n",
              "      <td>Bad Flight</td>\n",
              "      <td>0.7033</td>\n",
              "      <td>Virgin America</td>\n",
              "      <td>NaN</td>\n",
              "      <td>jnardino</td>\n",
              "      <td>NaN</td>\n",
              "      <td>0</td>\n",
              "      <td>@VirginAmerica it's really aggressive to blast...</td>\n",
              "      <td>NaN</td>\n",
              "      <td>2015-02-24 11:15:36 -0800</td>\n",
              "      <td>NaN</td>\n",
              "      <td>Pacific Time (US &amp; Canada)</td>\n",
              "      <td>NaN</td>\n",
              "      <td>NaN</td>\n",
              "      <td>NaN</td>\n",
              "      <td>NaN</td>\n",
              "      <td>NaN</td>\n",
              "      <td>NaN</td>\n",
              "    </tr>\n",
              "    <tr>\n",
              "      <th>4</th>\n",
              "      <td>5.703008e+17</td>\n",
              "      <td>negative</td>\n",
              "      <td>1.0000</td>\n",
              "      <td>Can't Tell</td>\n",
              "      <td>1.0000</td>\n",
              "      <td>Virgin America</td>\n",
              "      <td>NaN</td>\n",
              "      <td>jnardino</td>\n",
              "      <td>NaN</td>\n",
              "      <td>0</td>\n",
              "      <td>@VirginAmerica and it's a really big bad thing...</td>\n",
              "      <td>NaN</td>\n",
              "      <td>2015-02-24 11:14:45 -0800</td>\n",
              "      <td>NaN</td>\n",
              "      <td>Pacific Time (US &amp; Canada)</td>\n",
              "      <td>NaN</td>\n",
              "      <td>NaN</td>\n",
              "      <td>NaN</td>\n",
              "      <td>NaN</td>\n",
              "      <td>NaN</td>\n",
              "      <td>NaN</td>\n",
              "    </tr>\n",
              "  </tbody>\n",
              "</table>\n",
              "</div>"
            ],
            "text/plain": [
              "       tweet_id airline_sentiment  ...  Unnamed: 19 Unnamed: 20\n",
              "0  5.703061e+17           neutral  ...          NaN         NaN\n",
              "1  5.703011e+17          positive  ...          NaN         NaN\n",
              "2  5.703011e+17           neutral  ...          NaN         NaN\n",
              "3  5.703010e+17          negative  ...          NaN         NaN\n",
              "4  5.703008e+17          negative  ...          NaN         NaN\n",
              "\n",
              "[5 rows x 21 columns]"
            ]
          },
          "metadata": {
            "tags": []
          },
          "execution_count": 13
        }
      ]
    },
    {
      "cell_type": "code",
      "metadata": {
        "id": "-ddZtFaOYaa6",
        "colab_type": "code",
        "outputId": "d1645bab-2fa8-4614-bc22-4d09d2275f45",
        "colab": {
          "base_uri": "https://localhost:8080/",
          "height": 34
        }
      },
      "source": [
        "print(tweets.shape)\n",
        "\n"
      ],
      "execution_count": 14,
      "outputs": [
        {
          "output_type": "stream",
          "text": [
            "(14640, 21)\n"
          ],
          "name": "stdout"
        }
      ]
    },
    {
      "cell_type": "markdown",
      "metadata": {
        "id": "zlBBmJgwjlTi",
        "colab_type": "text"
      },
      "source": [
        "Let's filter the tweets columns to the ones that we might use...\n"
      ]
    },
    {
      "cell_type": "code",
      "metadata": {
        "id": "zDXxZ72Cf_n7",
        "colab_type": "code",
        "colab": {}
      },
      "source": [
        "df = tweets.filter(['tweet_id', 'airline_sentiment', 'text'], axis=1)"
      ],
      "execution_count": 0,
      "outputs": []
    },
    {
      "cell_type": "code",
      "metadata": {
        "id": "jzyWQ5q2giqb",
        "colab_type": "code",
        "colab": {
          "base_uri": "https://localhost:8080/",
          "height": 204
        },
        "outputId": "0de3b319-6834-45ab-d5ef-cf146d3ddf74"
      },
      "source": [
        "df.head(5)"
      ],
      "execution_count": 26,
      "outputs": [
        {
          "output_type": "execute_result",
          "data": {
            "text/html": [
              "<div>\n",
              "<style scoped>\n",
              "    .dataframe tbody tr th:only-of-type {\n",
              "        vertical-align: middle;\n",
              "    }\n",
              "\n",
              "    .dataframe tbody tr th {\n",
              "        vertical-align: top;\n",
              "    }\n",
              "\n",
              "    .dataframe thead th {\n",
              "        text-align: right;\n",
              "    }\n",
              "</style>\n",
              "<table border=\"1\" class=\"dataframe\">\n",
              "  <thead>\n",
              "    <tr style=\"text-align: right;\">\n",
              "      <th></th>\n",
              "      <th>tweet_id</th>\n",
              "      <th>airline_sentiment</th>\n",
              "      <th>text</th>\n",
              "    </tr>\n",
              "  </thead>\n",
              "  <tbody>\n",
              "    <tr>\n",
              "      <th>0</th>\n",
              "      <td>5.703061e+17</td>\n",
              "      <td>neutral</td>\n",
              "      <td>@VirginAmerica What @dhepburn said.</td>\n",
              "    </tr>\n",
              "    <tr>\n",
              "      <th>1</th>\n",
              "      <td>5.703011e+17</td>\n",
              "      <td>positive</td>\n",
              "      <td>@VirginAmerica plus you've added commercials t...</td>\n",
              "    </tr>\n",
              "    <tr>\n",
              "      <th>2</th>\n",
              "      <td>5.703011e+17</td>\n",
              "      <td>neutral</td>\n",
              "      <td>@VirginAmerica I didn't today... Must mean I n...</td>\n",
              "    </tr>\n",
              "    <tr>\n",
              "      <th>3</th>\n",
              "      <td>5.703010e+17</td>\n",
              "      <td>negative</td>\n",
              "      <td>@VirginAmerica it's really aggressive to blast...</td>\n",
              "    </tr>\n",
              "    <tr>\n",
              "      <th>4</th>\n",
              "      <td>5.703008e+17</td>\n",
              "      <td>negative</td>\n",
              "      <td>@VirginAmerica and it's a really big bad thing...</td>\n",
              "    </tr>\n",
              "  </tbody>\n",
              "</table>\n",
              "</div>"
            ],
            "text/plain": [
              "       tweet_id  ...                                               text\n",
              "0  5.703061e+17  ...                @VirginAmerica What @dhepburn said.\n",
              "1  5.703011e+17  ...  @VirginAmerica plus you've added commercials t...\n",
              "2  5.703011e+17  ...  @VirginAmerica I didn't today... Must mean I n...\n",
              "3  5.703010e+17  ...  @VirginAmerica it's really aggressive to blast...\n",
              "4  5.703008e+17  ...  @VirginAmerica and it's a really big bad thing...\n",
              "\n",
              "[5 rows x 3 columns]"
            ]
          },
          "metadata": {
            "tags": []
          },
          "execution_count": 26
        }
      ]
    },
    {
      "cell_type": "code",
      "metadata": {
        "id": "KKV5_EcuxlN2",
        "colab_type": "code",
        "colab": {}
      },
      "source": [
        "train = df.filter(['text','airline_sentiment'], axis=1)"
      ],
      "execution_count": 0,
      "outputs": []
    },
    {
      "cell_type": "code",
      "metadata": {
        "id": "LLV2KZVSc06Q",
        "colab_type": "code",
        "colab": {
          "base_uri": "https://localhost:8080/",
          "height": 119
        },
        "outputId": "8126669a-7b8a-4bc8-acea-180cdbed78ab"
      },
      "source": [
        "print(train.head(5))"
      ],
      "execution_count": 136,
      "outputs": [
        {
          "output_type": "stream",
          "text": [
            "                                                text airline_sentiment\n",
            "0                @VirginAmerica What @dhepburn said.           neutral\n",
            "1  @VirginAmerica plus you've added commercials t...          positive\n",
            "2  @VirginAmerica I didn't today... Must mean I n...           neutral\n",
            "3  @VirginAmerica it's really aggressive to blast...          negative\n",
            "4  @VirginAmerica and it's a really big bad thing...          negative\n"
          ],
          "name": "stdout"
        }
      ]
    },
    {
      "cell_type": "code",
      "metadata": {
        "id": "I4fOAY3_m7J0",
        "colab_type": "code",
        "colab": {
          "base_uri": "https://localhost:8080/",
          "height": 34
        },
        "outputId": "44991d6b-c482-4c66-b280-6f64fce7916f"
      },
      "source": [
        "train.iloc[0][0]"
      ],
      "execution_count": 106,
      "outputs": [
        {
          "output_type": "execute_result",
          "data": {
            "text/plain": [
              "'@VirginAmerica What @dhepburn said.'"
            ]
          },
          "metadata": {
            "tags": []
          },
          "execution_count": 106
        }
      ]
    },
    {
      "cell_type": "code",
      "metadata": {
        "id": "Xy8_ve5bl5aF",
        "colab_type": "code",
        "colab": {
          "base_uri": "https://localhost:8080/",
          "height": 34
        },
        "outputId": "6bff4db7-8975-4203-afe4-72f2f64baf69"
      },
      "source": [
        "train['text'][1]"
      ],
      "execution_count": 107,
      "outputs": [
        {
          "output_type": "execute_result",
          "data": {
            "text/plain": [
              "\"@VirginAmerica plus you've added commercials to the experience... tacky.\""
            ]
          },
          "metadata": {
            "tags": []
          },
          "execution_count": 107
        }
      ]
    },
    {
      "cell_type": "code",
      "metadata": {
        "id": "d1tGoaG1b2NL",
        "colab_type": "code",
        "colab": {
          "base_uri": "https://localhost:8080/",
          "height": 34
        },
        "outputId": "99947bea-9d02-40a4-b87a-132194bd3fec"
      },
      "source": [
        "print(train.shape)"
      ],
      "execution_count": 108,
      "outputs": [
        {
          "output_type": "stream",
          "text": [
            "(14640, 2)\n"
          ],
          "name": "stdout"
        }
      ]
    },
    {
      "cell_type": "code",
      "metadata": {
        "id": "om-_iaB_fgIN",
        "colab_type": "code",
        "outputId": "99828f9d-78b5-47e8-ead9-7522d48cac11",
        "colab": {
          "base_uri": "https://localhost:8080/",
          "height": 68
        }
      },
      "source": [
        "train.dtypes"
      ],
      "execution_count": 109,
      "outputs": [
        {
          "output_type": "execute_result",
          "data": {
            "text/plain": [
              "text                 object\n",
              "airline_sentiment    object\n",
              "dtype: object"
            ]
          },
          "metadata": {
            "tags": []
          },
          "execution_count": 109
        }
      ]
    },
    {
      "cell_type": "code",
      "metadata": {
        "id": "Al7yM6QzdgbA",
        "colab_type": "code",
        "colab": {}
      },
      "source": [
        "train_content = df.filter(['text', 'airline_sentiment'], axis=1)"
      ],
      "execution_count": 0,
      "outputs": []
    },
    {
      "cell_type": "code",
      "metadata": {
        "id": "EhV-vbgVkwBV",
        "colab_type": "code",
        "colab": {}
      },
      "source": [
        "#The TextClasDataBunch takes the INDEX as Target, so we need to make the Column\n",
        "#airline_sentiment as index to be able to use the Labels\n",
        "train_content.set_index('airline_sentiment',inplace=True)"
      ],
      "execution_count": 0,
      "outputs": []
    },
    {
      "cell_type": "code",
      "metadata": {
        "id": "20ip5JNmhYaJ",
        "colab_type": "code",
        "colab": {
          "base_uri": "https://localhost:8080/",
          "height": 85
        },
        "outputId": "5a9a04eb-7305-445e-f083-04d4b69a1d97"
      },
      "source": [
        "print(train_content.head(2))"
      ],
      "execution_count": 163,
      "outputs": [
        {
          "output_type": "stream",
          "text": [
            "                                                                text\n",
            "airline_sentiment                                                   \n",
            "neutral                          @VirginAmerica What @dhepburn said.\n",
            "positive           @VirginAmerica plus you've added commercials t...\n"
          ],
          "name": "stdout"
        }
      ]
    },
    {
      "cell_type": "markdown",
      "metadata": {
        "id": "mQHOpfCjjtah",
        "colab_type": "text"
      },
      "source": [
        "Let's find out how the sentiment is stated on the tweets"
      ]
    },
    {
      "cell_type": "code",
      "metadata": {
        "id": "mF47ZnyAYGxP",
        "colab_type": "code",
        "colab": {}
      },
      "source": [
        "import matplotlib.pyplot as plt\n",
        "import seaborn as sns"
      ],
      "execution_count": 0,
      "outputs": []
    },
    {
      "cell_type": "code",
      "metadata": {
        "id": "7YPnrD35fjDy",
        "colab_type": "code",
        "outputId": "6437059f-a6e3-407c-ccf9-51df948807fa",
        "colab": {
          "base_uri": "https://localhost:8080/",
          "height": 284
        }
      },
      "source": [
        "sns.countplot(train.airline_sentiment)\n",
        "plt.show()"
      ],
      "execution_count": 111,
      "outputs": [
        {
          "output_type": "display_data",
          "data": {
            "image/png": "[encoded data removed]",
            "text/plain": [
              "<Figure size 432x288 with 1 Axes>"
            ]
          },
          "metadata": {
            "tags": []
          }
        }
      ]
    },
    {
      "cell_type": "markdown",
      "metadata": {
        "id": "LeIj3Qh6cknY",
        "colab_type": "text"
      },
      "source": [
        "**Prepare Train.csv**"
      ]
    },
    {
      "cell_type": "code",
      "metadata": {
        "id": "hkcufKoxyIh0",
        "colab_type": "code",
        "colab": {}
      },
      "source": [
        "# Write train to csv\n",
        "train.to_csv('train.csv')\n",
        "!cp train.csv /content/gdrive/My\\ Drive/data/twitter/\n"
      ],
      "execution_count": 0,
      "outputs": []
    },
    {
      "cell_type": "code",
      "metadata": {
        "id": "67Hz6Bo5d1Vs",
        "colab_type": "code",
        "colab": {}
      },
      "source": [
        "# Write train_content to csv to prepare it for the classifier... after the Language Model\n",
        "train_content.to_csv('train_content.csv')\n",
        "!cp train_content.csv /content/gdrive/My\\ Drive/data/twitter/ "
      ],
      "execution_count": 0,
      "outputs": []
    },
    {
      "cell_type": "markdown",
      "metadata": {
        "id": "AOhdhll6jPEU",
        "colab_type": "text"
      },
      "source": [
        "Lets do the FastAi imports that we will need..."
      ]
    },
    {
      "cell_type": "code",
      "metadata": {
        "id": "-wa1LZxJxyks",
        "colab_type": "code",
        "colab": {}
      },
      "source": [
        "from fastai import *\n",
        "from fastai.text import *"
      ],
      "execution_count": 0,
      "outputs": []
    },
    {
      "cell_type": "code",
      "metadata": {
        "id": "OP7y4I2ZsNVj",
        "colab_type": "code",
        "colab": {
          "base_uri": "https://localhost:8080/",
          "height": 34
        },
        "outputId": "a07a9335-0d27-4e32-c686-abdfa2d848ee"
      },
      "source": [
        "path = '/content/gdrive/My\\ Drive/data/twitter/'\n",
        "print(path)"
      ],
      "execution_count": 113,
      "outputs": [
        {
          "output_type": "stream",
          "text": [
            "/content/gdrive/My\\ Drive/data/twitter/\n"
          ],
          "name": "stdout"
        }
      ]
    },
    {
      "cell_type": "code",
      "metadata": {
        "id": "1nHy7e2rtNsT",
        "colab_type": "code",
        "colab": {
          "base_uri": "https://localhost:8080/",
          "height": 34
        },
        "outputId": "c57b6c6f-27ea-4fe5-8614-9f0af6ee2649"
      },
      "source": [
        "!ls /content/gdrive/My\\ Drive/data/twitter/"
      ],
      "execution_count": 114,
      "outputs": [
        {
          "output_type": "stream",
          "text": [
            "models\ttrain.csv  Tweets.csv\n"
          ],
          "name": "stdout"
        }
      ]
    },
    {
      "cell_type": "markdown",
      "metadata": {
        "id": "7hJBGvTN_xP4",
        "colab_type": "text"
      },
      "source": [
        "Create a DataBunch"
      ]
    },
    {
      "cell_type": "code",
      "metadata": {
        "id": "puVwCdIK_0Pv",
        "colab_type": "code",
        "colab": {}
      },
      "source": [
        "data_lm = TextLMDataBunch.from_csv('/content/gdrive/My Drive/data/twitter/','train.csv', min_freq=1)"
      ],
      "execution_count": 0,
      "outputs": []
    },
    {
      "cell_type": "markdown",
      "metadata": {
        "id": "Bmr8MaMWAYfg",
        "colab_type": "text"
      },
      "source": [
        "# DataBunch is created...For Language Model"
      ]
    },
    {
      "cell_type": "code",
      "metadata": {
        "id": "xTVawsFkAkxY",
        "colab_type": "code",
        "colab": {
          "base_uri": "https://localhost:8080/",
          "height": 326
        },
        "outputId": "921540db-9a7e-4c3a-8557-b682fb7459b4"
      },
      "source": [
        "print(data_lm)"
      ],
      "execution_count": 120,
      "outputs": [
        {
          "output_type": "stream",
          "text": [
            "TextLMDataBunch;\n",
            "\n",
            "Train: LabelList (11711 items)\n",
            "x: LMTextList\n",
            "xxbos @united # unitedairlines so my feedback is for your benefit , not for you to correct your atrocious customer service ? xxmaj good to know,xxbos @usairways @usairways i used my aadvantage xxmaj number connected to the usairways when i booked tickets for friends . xxmaj will it benefit my account ?,xxbos @united stay more than 24h traveling ans sleeping on the airports floor,xxbos @americanair how is xxup us4623 going to be on time when they are still deplaning at 4:08 ? xxmaj this is xxup bs .,xxbos @americanair you bet make this screw up right ( for once ) . xxmaj things i need in bag for my job and you have \" grounded \" me today # painandsuffering\n",
            "y: LMLabelList\n",
            ",,,,\n",
            "Path: /content/gdrive/My Drive/data/twitter;\n",
            "\n",
            "Valid: LabelList (2929 items)\n",
            "x: LMTextList\n",
            "xxbos @united xxmaj how does xxmaj united refuse to xxunk a $ 400 lost voucher when their plane did n't take off due to mechanics ? # badcustomerservice,xxbos @usairways on hold now over 2 hrs on one phone hung on 5 x on another ? xxmaj how do you reach a person ? xxmaj no weather condition makes this xxunk !,xxbos @americanair simply amazing . xxmaj xxunk for miles . xxmaj thank u for my upgrade tomorrow for xxunk are spending a lot of time together next few weeks !,xxbos @jetblue do nt really know what that means but this is nt the best first - time - flying - w - xxunk old experience . likelihood of xxunk delays xxunk ?,xxbos @united why de - ice before taxing ? xxmaj maybe it # xxunk ? # shouldhaveflowndelta # unitedsucks @delta @southwestair @americanair\n",
            "y: LMLabelList\n",
            ",,,,\n",
            "Path: /content/gdrive/My Drive/data/twitter;\n",
            "\n",
            "Test: None\n"
          ],
          "name": "stdout"
        }
      ]
    },
    {
      "cell_type": "code",
      "metadata": {
        "id": "VNv81XK2NFmh",
        "colab_type": "code",
        "colab": {}
      },
      "source": [
        "data_lm.save('data_lm.pkl')"
      ],
      "execution_count": 0,
      "outputs": []
    },
    {
      "cell_type": "code",
      "metadata": {
        "id": "LWEWUExONY9u",
        "colab_type": "code",
        "colab": {
          "base_uri": "https://localhost:8080/",
          "height": 357
        },
        "outputId": "131f5469-72c4-401f-ca8b-b01e5a5063d0"
      },
      "source": [
        "data_lm.show_batch()"
      ],
      "execution_count": 122,
      "outputs": [
        {
          "output_type": "display_data",
          "data": {
            "text/html": [
              "<table border=\"1\" class=\"dataframe\">\n",
              "  <thead>\n",
              "    <tr style=\"text-align: right;\">\n",
              "      <th>idx</th>\n",
              "      <th>text</th>\n",
              "    </tr>\n",
              "  </thead>\n",
              "  <tbody>\n",
              "    <tr>\n",
              "      <td>0</td>\n",
              "      <td>for tomorrow by chance ? xxmaj even to xxmaj late xxmaj flightr in the day would be super helpful . xxbos @jetblue we 're home , you guys recovered , now we can laugh about it and the extra day in barbados . xxmaj will you open xxmaj cuba soon ? xxbos @united @adam_karren @zj76 how did you save the $ 200 on checked snowboard ? xxmaj trying to check</td>\n",
              "    </tr>\n",
              "    <tr>\n",
              "      <td>1</td>\n",
              "      <td>then sends you an email saying \" think about your next flight ... \" # customer # outrage http : / / t.co / kkwiwi97a4 xxbos @united , # deaffriendly ? xxmaj getting there . xxmaj read your review on http : / / t.co / 2brt0athau : http : / / t.co / wznp5q1m0h xxbos @jetblue would have been good to know months ago that you xxmaj cancelled xxmaj</td>\n",
              "    </tr>\n",
              "    <tr>\n",
              "      <td>2</td>\n",
              "      <td>round trip , my xxup non - xxmaj english speaking friend was stranded xxup twice for 12 + hours each time ! xxmaj most staff members were rude . xxbos @jetblue # 1680 xxmaj super smooth flight and landing . xxmaj nicely done . xxbos @southwestair ha , ha not a make or break for me either way ! xxbos @united besides landing the plane , overall customer service experience</td>\n",
              "    </tr>\n",
              "    <tr>\n",
              "      <td>3</td>\n",
              "      <td>... i clearly purchased this seat with my miles and refuse to downgrade . # ripoff xxbos @virginamerica you know what would be amazingly awesome ? xxup bos - xxup fll xxup please xxrep 7 ! i want to fly with only you . xxbos @jetblue some woman stole my seat on the plane but i was the one that had to sit elsewhere . xxmaj is that standard protocol</td>\n",
              "    </tr>\n",
              "    <tr>\n",
              "      <td>4</td>\n",
              "      <td>xxmaj friday morning using my expired license ? xxbos @united xxmaj kewl . xxmaj will also let them know the overhead bin over my row was \" xxmaj inop \" . i love a good abbreve . xxbos @americanair overall lack of attention or foresight when managing flights . xxbos @jetblue xxmaj hey guys ! xxmaj your xxmaj flight xxmaj booking xxmaj problems system ran my first and middle names</td>\n",
              "    </tr>\n",
              "  </tbody>\n",
              "</table>"
            ],
            "text/plain": [
              "<IPython.core.display.HTML object>"
            ]
          },
          "metadata": {
            "tags": []
          }
        }
      ]
    },
    {
      "cell_type": "markdown",
      "metadata": {
        "id": "S2rw0GZDLxKI",
        "colab_type": "text"
      },
      "source": [
        "**We Have to USE the Wikipedia Weights for the ULMFit, we use the fastai supplied WT103_1, from wikipedia trained model**"
      ]
    },
    {
      "cell_type": "markdown",
      "metadata": {
        "id": "Qkh9arkjINob",
        "colab_type": "text"
      },
      "source": [
        "NOTE: The API for language_model_learner has changed. Check the docs 33 but you will need something like:\n",
        "\n",
        "learn = language_model_learner(data_lm, arch=AWD_LSTM, drop_mult=0.3)\n",
        "\n",
        "Also, if you take a look at the source you will see that the AWD_LSTM model loads pre-trained weights from URLs.WT103_1 as default."
      ]
    },
    {
      "cell_type": "code",
      "metadata": {
        "id": "2n4RXwcqBuSr",
        "colab_type": "code",
        "colab": {
          "base_uri": "https://localhost:8080/",
          "height": 300
        },
        "outputId": "65335a6e-1607-4226-b45c-8f13ef784769"
      },
      "source": [
        "learn = language_model_learner(data_lm, arch=AWD_LSTM, drop_mult=0.3)\n",
        "learn.lr_find(start_lr=1e-8, end_lr=1e2)\n",
        "learn.recorder.plot()"
      ],
      "execution_count": 117,
      "outputs": [
        {
          "output_type": "display_data",
          "data": {
            "text/html": [
              ""
            ],
            "text/plain": [
              "<IPython.core.display.HTML object>"
            ]
          },
          "metadata": {
            "tags": []
          }
        },
        {
          "output_type": "stream",
          "text": [
            "LR Finder is complete, type {learner_name}.recorder.plot() to see the graph.\n"
          ],
          "name": "stdout"
        },
        {
          "output_type": "display_data",
          "data": {
            "image/png": "[encoded data removed]",
            "text/plain": [
              "<Figure size 432x288 with 1 Axes>"
            ]
          },
          "metadata": {
            "tags": []
          }
        }
      ]
    },
    {
      "cell_type": "code",
      "metadata": {
        "id": "6LVbYieCJ5MS",
        "colab_type": "code",
        "colab": {
          "base_uri": "https://localhost:8080/",
          "height": 80
        },
        "outputId": "38af984e-7528-43da-fc30-67c09a70ed77"
      },
      "source": [
        "# Run one epoch with lower layers \n",
        "learn.fit_one_cycle(cyc_len=1, max_lr=1e-2, moms=(0.8, 0.7))"
      ],
      "execution_count": 123,
      "outputs": [
        {
          "output_type": "display_data",
          "data": {
            "text/html": [
              "<table border=\"1\" class=\"dataframe\">\n",
              "  <thead>\n",
              "    <tr style=\"text-align: left;\">\n",
              "      <th>epoch</th>\n",
              "      <th>train_loss</th>\n",
              "      <th>valid_loss</th>\n",
              "      <th>accuracy</th>\n",
              "      <th>time</th>\n",
              "    </tr>\n",
              "  </thead>\n",
              "  <tbody>\n",
              "    <tr>\n",
              "      <td>0</td>\n",
              "      <td>1.189238</td>\n",
              "      <td>5.258035</td>\n",
              "      <td>0.250209</td>\n",
              "      <td>00:18</td>\n",
              "    </tr>\n",
              "  </tbody>\n",
              "</table>"
            ],
            "text/plain": [
              "<IPython.core.display.HTML object>"
            ]
          },
          "metadata": {
            "tags": []
          }
        }
      ]
    },
    {
      "cell_type": "code",
      "metadata": {
        "id": "tdtjkLwaOyxf",
        "colab_type": "code",
        "colab": {}
      },
      "source": [
        "learn.save('fit_head')"
      ],
      "execution_count": 0,
      "outputs": []
    },
    {
      "cell_type": "code",
      "metadata": {
        "id": "wcv_iMwXO3bp",
        "colab_type": "code",
        "colab": {}
      },
      "source": [
        "learn.load('fit_head');"
      ],
      "execution_count": 0,
      "outputs": []
    },
    {
      "cell_type": "code",
      "metadata": {
        "id": "GQp1I58dKN5y",
        "colab_type": "code",
        "colab": {}
      },
      "source": [
        "# Run for many epochs with all layers unfrozen\n",
        "learn.unfreeze()\n"
      ],
      "execution_count": 0,
      "outputs": []
    },
    {
      "cell_type": "code",
      "metadata": {
        "id": "O7YeY0VcPCPv",
        "colab_type": "code",
        "colab": {
          "base_uri": "https://localhost:8080/",
          "height": 359
        },
        "outputId": "09430e6d-eeba-42a4-eb25-7cebf0589a00"
      },
      "source": [
        "learn.fit_one_cycle(cyc_len=10, max_lr=1e-2, moms=(0.8, 0.7))"
      ],
      "execution_count": 130,
      "outputs": [
        {
          "output_type": "display_data",
          "data": {
            "text/html": [
              "<table border=\"1\" class=\"dataframe\">\n",
              "  <thead>\n",
              "    <tr style=\"text-align: left;\">\n",
              "      <th>epoch</th>\n",
              "      <th>train_loss</th>\n",
              "      <th>valid_loss</th>\n",
              "      <th>accuracy</th>\n",
              "      <th>time</th>\n",
              "    </tr>\n",
              "  </thead>\n",
              "  <tbody>\n",
              "    <tr>\n",
              "      <td>0</td>\n",
              "      <td>0.962956</td>\n",
              "      <td>5.285935</td>\n",
              "      <td>0.252846</td>\n",
              "      <td>00:18</td>\n",
              "    </tr>\n",
              "    <tr>\n",
              "      <td>1</td>\n",
              "      <td>0.916090</td>\n",
              "      <td>5.354232</td>\n",
              "      <td>0.249860</td>\n",
              "      <td>00:18</td>\n",
              "    </tr>\n",
              "    <tr>\n",
              "      <td>2</td>\n",
              "      <td>1.099507</td>\n",
              "      <td>5.360841</td>\n",
              "      <td>0.246568</td>\n",
              "      <td>00:17</td>\n",
              "    </tr>\n",
              "    <tr>\n",
              "      <td>3</td>\n",
              "      <td>1.235869</td>\n",
              "      <td>5.379910</td>\n",
              "      <td>0.249358</td>\n",
              "      <td>00:17</td>\n",
              "    </tr>\n",
              "    <tr>\n",
              "      <td>4</td>\n",
              "      <td>1.150233</td>\n",
              "      <td>5.426380</td>\n",
              "      <td>0.245578</td>\n",
              "      <td>00:17</td>\n",
              "    </tr>\n",
              "    <tr>\n",
              "      <td>5</td>\n",
              "      <td>0.969931</td>\n",
              "      <td>5.463829</td>\n",
              "      <td>0.252023</td>\n",
              "      <td>00:17</td>\n",
              "    </tr>\n",
              "    <tr>\n",
              "      <td>6</td>\n",
              "      <td>0.806880</td>\n",
              "      <td>5.442882</td>\n",
              "      <td>0.257115</td>\n",
              "      <td>00:17</td>\n",
              "    </tr>\n",
              "    <tr>\n",
              "      <td>7</td>\n",
              "      <td>0.690352</td>\n",
              "      <td>5.410724</td>\n",
              "      <td>0.257840</td>\n",
              "      <td>00:17</td>\n",
              "    </tr>\n",
              "    <tr>\n",
              "      <td>8</td>\n",
              "      <td>0.632477</td>\n",
              "      <td>5.377882</td>\n",
              "      <td>0.259863</td>\n",
              "      <td>00:17</td>\n",
              "    </tr>\n",
              "    <tr>\n",
              "      <td>9</td>\n",
              "      <td>0.600765</td>\n",
              "      <td>5.370325</td>\n",
              "      <td>0.259431</td>\n",
              "      <td>00:17</td>\n",
              "    </tr>\n",
              "  </tbody>\n",
              "</table>"
            ],
            "text/plain": [
              "<IPython.core.display.HTML object>"
            ]
          },
          "metadata": {
            "tags": []
          }
        }
      ]
    },
    {
      "cell_type": "code",
      "metadata": {
        "id": "ubI2Ep41SEUY",
        "colab_type": "code",
        "colab": {}
      },
      "source": [
        "learn.save('fine_tuned')"
      ],
      "execution_count": 0,
      "outputs": []
    },
    {
      "cell_type": "markdown",
      "metadata": {
        "id": "jujqLQy7SwiD",
        "colab_type": "text"
      },
      "source": [
        "Does the model works? Does it express actually some congruent words?"
      ]
    },
    {
      "cell_type": "code",
      "metadata": {
        "id": "Z-Lt3LbfSLvK",
        "colab_type": "code",
        "colab": {}
      },
      "source": [
        "learn.load('fine_tuned');"
      ],
      "execution_count": 0,
      "outputs": []
    },
    {
      "cell_type": "code",
      "metadata": {
        "id": "Tw4IUTLLSR2R",
        "colab_type": "code",
        "colab": {}
      },
      "source": [
        "TEXT = \"I liked this airline because\"\n",
        "N_WORDS = 40\n",
        "N_SENTENCES = 2"
      ],
      "execution_count": 0,
      "outputs": []
    },
    {
      "cell_type": "code",
      "metadata": {
        "id": "1nTLSSmCSa3C",
        "colab_type": "code",
        "colab": {
          "base_uri": "https://localhost:8080/",
          "height": 71
        },
        "outputId": "4d3ae4c2-adb6-48c8-be12-7ebcdf7ef52d"
      },
      "source": [
        "print(\"\\n\".join(learn.predict(TEXT, N_WORDS, temperature=0.75) for _ in range(N_SENTENCES)))"
      ],
      "execution_count": 134,
      "outputs": [
        {
          "output_type": "stream",
          "text": [
            "I liked this airline because you could n't get me off the first plane so i did n't get my baggage to greenville w me . xxbos Thanks @united , great news that u wo n't refund tickets due to a bad exchange rate\n",
            "I liked this airline because you guys did n't have everyone to deal with me xxbos @americanair No . Just felt that you could do better in making the emails feel a little less of “ We do n’t care .\n"
          ],
          "name": "stdout"
        }
      ]
    },
    {
      "cell_type": "code",
      "metadata": {
        "id": "-doIWq5zZ2Z2",
        "colab_type": "code",
        "colab": {}
      },
      "source": [
        "#SAVE THE ENCODER\n",
        "learn.save_encoder('fine_tuned_enc')"
      ],
      "execution_count": 0,
      "outputs": []
    },
    {
      "cell_type": "markdown",
      "metadata": {
        "id": "PRuiJm8PZDv4",
        "colab_type": "text"
      },
      "source": [
        "# Classifier\n"
      ]
    },
    {
      "cell_type": "code",
      "metadata": {
        "id": "hRwA757jZJYU",
        "colab_type": "code",
        "colab": {}
      },
      "source": [
        "# Classifier databunch\n",
        "data_clas = TextClasDataBunch.from_csv('/content/gdrive/My Drive/data/twitter/','train_content.csv',\n",
        "            vocab=data_lm.vocab, min_freq=1, bs=32)"
      ],
      "execution_count": 0,
      "outputs": []
    },
    {
      "cell_type": "code",
      "metadata": {
        "id": "-qQXFp1PgKJK",
        "colab_type": "code",
        "colab": {
          "base_uri": "https://localhost:8080/",
          "height": 289
        },
        "outputId": "2c03c69a-f994-45a7-ad3f-32d9dc4220ea"
      },
      "source": [
        "data_clas.show_batch()"
      ],
      "execution_count": 187,
      "outputs": [
        {
          "output_type": "display_data",
          "data": {
            "text/html": [
              "<table border=\"1\" class=\"dataframe\">\n",
              "  <thead>\n",
              "    <tr style=\"text-align: right;\">\n",
              "      <th>text</th>\n",
              "      <th>target</th>\n",
              "    </tr>\n",
              "  </thead>\n",
              "  <tbody>\n",
              "    <tr>\n",
              "      <td>xxbos @united i xxup just xxup asked xxup my xxup boyfriend xxup to xxup prom xxup over xxup the xxup loudspeaker xxup on xxup flight 494 xxup he xxup said xxup yes xxrep 4 ! xxup best xxup day xxup ever ! ! ! xxup thank u xxup so xxup much xxrep 6 !</td>\n",
              "      <td>positive</td>\n",
              "    </tr>\n",
              "    <tr>\n",
              "      <td>xxbos @united - xxup seriously it 's 2015 ? ! ? ! xxup no wifi on a 5hr flight from xxup cle - xxup sfo # 1589 . xxmaj you 're the xxup only airline w / out wifi ... and pls no ' unwind ' xxup bs .</td>\n",
              "      <td>negative</td>\n",
              "    </tr>\n",
              "    <tr>\n",
              "      <td>xxbos @southwestair xxmaj loved one 's flight xxup atl to xxup ind xxmaj cancelled xxmaj flightled due to \" ice in xxmaj indy \" . xxmaj sitting here in xxmaj indy , it is xxunk dry . xxmaj tomorrow 4 - 6 \" of snow .</td>\n",
              "      <td>negative</td>\n",
              "    </tr>\n",
              "    <tr>\n",
              "      <td>xxbos xxup @usairways xxup are xxup you xxup kidding xxup me ? ? xxmaj bad customer service , folks . xxmaj flew from xxup psp to xxup phx flight 2692 on 2 / 19 . ( cont ) http : / / t.co / kigfkvxxdq</td>\n",
              "      <td>negative</td>\n",
              "    </tr>\n",
              "    <tr>\n",
              "      <td>xxbos xxup by xxup the xxup grace xxup of xxup god , i xxup made xxup it ! “ @usairways : xxup @__rwg _ _ xxmaj we do n't have those powers in here . xxmaj we hope you can make that flight . ”</td>\n",
              "      <td>positive</td>\n",
              "    </tr>\n",
              "  </tbody>\n",
              "</table>"
            ],
            "text/plain": [
              "<IPython.core.display.HTML object>"
            ]
          },
          "metadata": {
            "tags": []
          }
        }
      ]
    },
    {
      "cell_type": "markdown",
      "metadata": {
        "id": "M473u2lDnEkI",
        "colab_type": "text"
      },
      "source": [
        "**Create The Learner**"
      ]
    },
    {
      "cell_type": "code",
      "metadata": {
        "id": "GJeCVeEpnH5y",
        "colab_type": "code",
        "colab": {}
      },
      "source": [
        "learn = text_classifier_learner(data_clas, AWD_LSTM, drop_mult=0.5)\n",
        "learn.load_encoder('fine_tuned_enc')"
      ],
      "execution_count": 0,
      "outputs": []
    },
    {
      "cell_type": "code",
      "metadata": {
        "id": "33Oe2eaBnNWD",
        "colab_type": "code",
        "colab": {
          "base_uri": "https://localhost:8080/",
          "height": 34
        },
        "outputId": "2a2a0f44-231a-494f-825f-d04da74472ed"
      },
      "source": [
        "learn.lr_find()"
      ],
      "execution_count": 168,
      "outputs": [
        {
          "output_type": "display_data",
          "data": {
            "text/html": [
              ""
            ],
            "text/plain": [
              "<IPython.core.display.HTML object>"
            ]
          },
          "metadata": {
            "tags": []
          }
        },
        {
          "output_type": "stream",
          "text": [
            "LR Finder is complete, type {learner_name}.recorder.plot() to see the graph.\n"
          ],
          "name": "stdout"
        }
      ]
    },
    {
      "cell_type": "code",
      "metadata": {
        "id": "_fLiZ7sKnUEA",
        "colab_type": "code",
        "colab": {
          "base_uri": "https://localhost:8080/",
          "height": 283
        },
        "outputId": "e64f3730-5bbf-4652-ac4f-3545dc0c1db0"
      },
      "source": [
        "learn.recorder.plot()"
      ],
      "execution_count": 169,
      "outputs": [
        {
          "output_type": "display_data",
          "data": {
            "image/png": "[encoded data removed]",
            "text/plain": [
              "<Figure size 432x288 with 1 Axes>"
            ]
          },
          "metadata": {
            "tags": []
          }
        }
      ]
    },
    {
      "cell_type": "code",
      "metadata": {
        "id": "wAFG-4pqnbSM",
        "colab_type": "code",
        "colab": {
          "base_uri": "https://localhost:8080/",
          "height": 80
        },
        "outputId": "46d00d75-00d7-4419-a105-c15a22278dfe"
      },
      "source": [
        "learn.fit_one_cycle(1, 2e-2, moms=(0.8,0.7))"
      ],
      "execution_count": 170,
      "outputs": [
        {
          "output_type": "display_data",
          "data": {
            "text/html": [
              "<table border=\"1\" class=\"dataframe\">\n",
              "  <thead>\n",
              "    <tr style=\"text-align: left;\">\n",
              "      <th>epoch</th>\n",
              "      <th>train_loss</th>\n",
              "      <th>valid_loss</th>\n",
              "      <th>accuracy</th>\n",
              "      <th>time</th>\n",
              "    </tr>\n",
              "  </thead>\n",
              "  <tbody>\n",
              "    <tr>\n",
              "      <td>0</td>\n",
              "      <td>0.647754</td>\n",
              "      <td>0.521917</td>\n",
              "      <td>0.786958</td>\n",
              "      <td>00:11</td>\n",
              "    </tr>\n",
              "  </tbody>\n",
              "</table>"
            ],
            "text/plain": [
              "<IPython.core.display.HTML object>"
            ]
          },
          "metadata": {
            "tags": []
          }
        }
      ]
    },
    {
      "cell_type": "code",
      "metadata": {
        "id": "4VU1MO23n0dh",
        "colab_type": "code",
        "colab": {}
      },
      "source": [
        "learn.save('first')"
      ],
      "execution_count": 0,
      "outputs": []
    },
    {
      "cell_type": "code",
      "metadata": {
        "id": "xPh34sahoBD3",
        "colab_type": "code",
        "colab": {}
      },
      "source": [
        "learn.load('first');"
      ],
      "execution_count": 0,
      "outputs": []
    },
    {
      "cell_type": "code",
      "metadata": {
        "id": "BE70jXd1oBVD",
        "colab_type": "code",
        "colab": {
          "base_uri": "https://localhost:8080/",
          "height": 80
        },
        "outputId": "3a3d1ad0-b021-4deb-987a-60321c1df8ad"
      },
      "source": [
        "learn.freeze_to(-2)\n",
        "learn.fit_one_cycle(1, slice(1e-2/(2.6**4),1e-2), moms=(0.8,0.7))"
      ],
      "execution_count": 173,
      "outputs": [
        {
          "output_type": "display_data",
          "data": {
            "text/html": [
              "<table border=\"1\" class=\"dataframe\">\n",
              "  <thead>\n",
              "    <tr style=\"text-align: left;\">\n",
              "      <th>epoch</th>\n",
              "      <th>train_loss</th>\n",
              "      <th>valid_loss</th>\n",
              "      <th>accuracy</th>\n",
              "      <th>time</th>\n",
              "    </tr>\n",
              "  </thead>\n",
              "  <tbody>\n",
              "    <tr>\n",
              "      <td>0</td>\n",
              "      <td>0.624734</td>\n",
              "      <td>0.488841</td>\n",
              "      <td>0.803004</td>\n",
              "      <td>00:12</td>\n",
              "    </tr>\n",
              "  </tbody>\n",
              "</table>"
            ],
            "text/plain": [
              "<IPython.core.display.HTML object>"
            ]
          },
          "metadata": {
            "tags": []
          }
        }
      ]
    },
    {
      "cell_type": "code",
      "metadata": {
        "id": "QfRb4pp3p65U",
        "colab_type": "code",
        "colab": {}
      },
      "source": [
        "learn.save('second')"
      ],
      "execution_count": 0,
      "outputs": []
    },
    {
      "cell_type": "code",
      "metadata": {
        "id": "wWD4Ui6Ip_IR",
        "colab_type": "code",
        "colab": {}
      },
      "source": [
        "learn.load('second');"
      ],
      "execution_count": 0,
      "outputs": []
    },
    {
      "cell_type": "code",
      "metadata": {
        "id": "1FmfOxAgqFHn",
        "colab_type": "code",
        "colab": {
          "base_uri": "https://localhost:8080/",
          "height": 80
        },
        "outputId": "1d0a33d1-cbf7-439c-e20d-a9b6968d7ea1"
      },
      "source": [
        "learn.freeze_to(-3)\n",
        "learn.fit_one_cycle(1, slice(5e-3/(2.6**4),5e-3), moms=(0.8,0.7))"
      ],
      "execution_count": 176,
      "outputs": [
        {
          "output_type": "display_data",
          "data": {
            "text/html": [
              "<table border=\"1\" class=\"dataframe\">\n",
              "  <thead>\n",
              "    <tr style=\"text-align: left;\">\n",
              "      <th>epoch</th>\n",
              "      <th>train_loss</th>\n",
              "      <th>valid_loss</th>\n",
              "      <th>accuracy</th>\n",
              "      <th>time</th>\n",
              "    </tr>\n",
              "  </thead>\n",
              "  <tbody>\n",
              "    <tr>\n",
              "      <td>0</td>\n",
              "      <td>0.527010</td>\n",
              "      <td>0.466485</td>\n",
              "      <td>0.816320</td>\n",
              "      <td>00:19</td>\n",
              "    </tr>\n",
              "  </tbody>\n",
              "</table>"
            ],
            "text/plain": [
              "<IPython.core.display.HTML object>"
            ]
          },
          "metadata": {
            "tags": []
          }
        }
      ]
    },
    {
      "cell_type": "code",
      "metadata": {
        "id": "6GTnyhOIqSDn",
        "colab_type": "code",
        "colab": {}
      },
      "source": [
        "learn.save('third')"
      ],
      "execution_count": 0,
      "outputs": []
    },
    {
      "cell_type": "code",
      "metadata": {
        "id": "R4S8De7TqWDf",
        "colab_type": "code",
        "colab": {}
      },
      "source": [
        "learn.load('third');"
      ],
      "execution_count": 0,
      "outputs": []
    },
    {
      "cell_type": "code",
      "metadata": {
        "id": "NI2bF1J_qe0X",
        "colab_type": "code",
        "colab": {
          "base_uri": "https://localhost:8080/",
          "height": 111
        },
        "outputId": "87020c90-53ea-4f6c-e188-9328fb6f78ec"
      },
      "source": [
        "learn.unfreeze()\n",
        "learn.fit_one_cycle(2, slice(1e-3/(2.6**4),1e-3), moms=(0.8,0.7))"
      ],
      "execution_count": 179,
      "outputs": [
        {
          "output_type": "display_data",
          "data": {
            "text/html": [
              "<table border=\"1\" class=\"dataframe\">\n",
              "  <thead>\n",
              "    <tr style=\"text-align: left;\">\n",
              "      <th>epoch</th>\n",
              "      <th>train_loss</th>\n",
              "      <th>valid_loss</th>\n",
              "      <th>accuracy</th>\n",
              "      <th>time</th>\n",
              "    </tr>\n",
              "  </thead>\n",
              "  <tbody>\n",
              "    <tr>\n",
              "      <td>0</td>\n",
              "      <td>0.494972</td>\n",
              "      <td>0.463532</td>\n",
              "      <td>0.817344</td>\n",
              "      <td>00:27</td>\n",
              "    </tr>\n",
              "    <tr>\n",
              "      <td>1</td>\n",
              "      <td>0.444013</td>\n",
              "      <td>0.454612</td>\n",
              "      <td>0.820075</td>\n",
              "      <td>00:27</td>\n",
              "    </tr>\n",
              "  </tbody>\n",
              "</table>"
            ],
            "text/plain": [
              "<IPython.core.display.HTML object>"
            ]
          },
          "metadata": {
            "tags": []
          }
        }
      ]
    },
    {
      "cell_type": "markdown",
      "metadata": {
        "id": "8m-CojBrq0AC",
        "colab_type": "text"
      },
      "source": [
        "# Test Prediction"
      ]
    },
    {
      "cell_type": "code",
      "metadata": {
        "id": "OyDS6v-RqytA",
        "colab_type": "code",
        "colab": {
          "base_uri": "https://localhost:8080/",
          "height": 34
        },
        "outputId": "2aa1c28a-df73-4b83-d8e9-0166d7a1db38"
      },
      "source": [
        "learn.predict(\"I really loved that airline, it was awesome!\")"
      ],
      "execution_count": 190,
      "outputs": [
        {
          "output_type": "execute_result",
          "data": {
            "text/plain": [
              "(Category neutral, tensor(1), tensor([0.3040, 0.3781, 0.3179]))"
            ]
          },
          "metadata": {
            "tags": []
          },
          "execution_count": 190
        }
      ]
    }
  ]
}